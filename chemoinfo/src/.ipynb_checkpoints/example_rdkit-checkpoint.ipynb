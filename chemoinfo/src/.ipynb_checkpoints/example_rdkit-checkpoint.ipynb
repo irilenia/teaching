{
 "cells": [
  {
   "cell_type": "code",
   "execution_count": 1,
   "metadata": {},
   "outputs": [],
   "source": [
    "from rdkit import Chem\n",
    "from rdkit.Chem.Draw  import IPythonConsole\n",
    "from rdkit.Chem import Draw"
   ]
  },
  {
   "cell_type": "code",
   "execution_count": 2,
   "metadata": {},
   "outputs": [],
   "source": [
    "mol1 = Chem.MolFromSmiles('COc1cc2ncnc(Nc3ccc(F)c(Cl)c3)c2cc1OCCCN1CCOCC1')\n",
    "mol2 = Chem.MolFromSmiles('C#Cc1cccc(Nc2ncnc3cc(OCCOC)c(OCCOC)cc23)c1')\n"
   ]
  },
  {
   "cell_type": "code",
   "execution_count": 3,
   "metadata": {},
   "outputs": [
    {
     "data": {
      "image/png": "[encoded data removed]",
      "text/plain": [
       "<rdkit.Chem.rdchem.Mol at 0x7fa2ac1c48a0>"
      ]
     },
     "execution_count": 3,
     "metadata": {},
     "output_type": "execute_result"
    }
   ],
   "source": [
    "mol1"
   ]
  },
  {
   "cell_type": "code",
   "execution_count": 4,
   "metadata": {},
   "outputs": [
    {
     "data": {
      "image/png": "[encoded data removed]",
      "text/plain": [
       "<rdkit.Chem.rdchem.Mol at 0x7fa2ac1c4940>"
      ]
     },
     "execution_count": 4,
     "metadata": {},
     "output_type": "execute_result"
    }
   ],
   "source": [
    "mol2\n"
   ]
  },
  {
   "cell_type": "code",
   "execution_count": 5,
   "metadata": {},
   "outputs": [],
   "source": [
    "\n",
    "from rdkit.Chem import Descriptors\n"
   ]
  },
  {
   "cell_type": "code",
   "execution_count": 6,
   "metadata": {},
   "outputs": [
    {
     "name": "stdout",
     "output_type": "stream",
     "text": [
      "31\n"
     ]
    }
   ],
   "source": [
    "print (Descriptors.HeavyAtomCount(mol1))\n"
   ]
  },
  {
   "cell_type": "code",
   "execution_count": 7,
   "metadata": {},
   "outputs": [],
   "source": [
    "c"
   ]
  },
  {
   "cell_type": "code",
   "execution_count": 8,
   "metadata": {},
   "outputs": [
    {
     "name": "stdout",
     "output_type": "stream",
     "text": [
      "31\n",
      "0\n",
      "29\n",
      "23\n",
      "0\n",
      "18\n",
      "43\n",
      "50\n",
      "28\n",
      "0\n",
      "0\n",
      "70\n",
      "36\n",
      "0\n",
      "22\n",
      "38\n",
      "29\n",
      "22\n",
      "0\n",
      "39\n",
      "54\n",
      "0\n",
      "31\n",
      "18\n",
      "28\n",
      "17\n",
      "32\n",
      "66\n",
      "0\n",
      "0\n",
      "27\n",
      "0\n",
      "35\n",
      "36\n",
      "65\n",
      "0\n",
      "23\n",
      "0\n",
      "0\n",
      "40\n",
      "26\n",
      "19\n",
      "26\n",
      "0\n",
      "49\n",
      "0\n",
      "0\n",
      "251\n",
      "50\n",
      "65\n",
      "37\n",
      "38\n",
      "33\n",
      "23\n",
      "57\n",
      "37\n",
      "0\n",
      "0\n",
      "28\n",
      "31\n",
      "26\n",
      "42\n",
      "30\n"
     ]
    }
   ],
   "source": [
    "for mol in suppl:\n",
    "    print(mol.GetNumAtoms())\n",
    "    "
   ]
  },
  {
   "cell_type": "code",
   "execution_count": 9,
   "metadata": {},
   "outputs": [
    {
     "name": "stdout",
     "output_type": "stream",
     "text": [
      "405046128\n",
      "     RDKit          2D\n",
      "\n",
      " 31 34  0  0  1  0  0  0  0  0999 V2000\n",
      "    7.3916    2.3112    0.0000 O   0  0  0  0  0  0  0  0  0  0  0  0\n",
      "    7.8916   -0.2276    0.0000 O   0  0  0  0  0  0  0  0  0  0  0  0\n",
      "    9.6517    1.0511    0.0000 O   0  0  0  0  0  0  0  0  0  0  0  0\n",
      "    5.3884    1.7202    0.0000 O   0  0  0  0  0  0  0  0  0  0  0  0\n",
      "    8.9794    3.1202    0.0000 O   0  0  0  0  0  0  0  0  0  0  0  0\n",
      "    7.8916    0.7724    0.0000 C   0  0  0  0  0  0  0  0  0  0  0  0\n",
      "    7.0826    1.3601    0.0000 C   0  0  0  0  0  0  0  0  0  0  0  0\n",
      "    8.7006    1.3601    0.0000 C   0  0  0  0  0  0  0  0  0  0  0  0\n",
      "    6.1316    1.0511    0.0000 C   0  0  0  0  0  0  0  0  0  0  0  0\n",
      "    8.3916    2.3112    0.0000 C   0  0  0  0  0  0  0  0  0  0  0  0\n",
      "    7.0256   -0.7276    0.0000 C   0  0  0  0  0  0  0  0  0  0  0  0\n",
      "   10.3948    1.7202    0.0000 C   0  0  0  0  0  0  0  0  0  0  0  0\n",
      "    7.0256   -1.7276    0.0000 C   0  0  0  0  0  0  0  0  0  0  0  0\n",
      "    4.4374    1.4112    0.0000 C   0  0  0  0  0  0  0  0  0  0  0  0\n",
      "   11.3459    1.4112    0.0000 C   0  0  0  0  0  0  0  0  0  0  0  0\n",
      "    3.6942    2.0804    0.0000 C   0  0  0  0  0  0  0  0  0  0  0  0\n",
      "    6.1596   -2.2276    0.0000 C   0  0  0  0  0  0  0  0  0  0  0  0\n",
      "    7.8916   -2.2276    0.0000 C   0  0  0  0  0  0  0  0  0  0  0  0\n",
      "   11.5538    0.4331    0.0000 C   0  0  0  0  0  0  0  0  0  0  0  0\n",
      "   12.0890    2.0804    0.0000 C   0  0  0  0  0  0  0  0  0  0  0  0\n",
      "    3.9021    3.0585    0.0000 C   0  0  0  0  0  0  0  0  0  0  0  0\n",
      "    2.7431    1.7714    0.0000 C   0  0  0  0  0  0  0  0  0  0  0  0\n",
      "    6.1596   -3.2276    0.0000 C   0  0  0  0  0  0  0  0  0  0  0  0\n",
      "    7.8916   -3.2276    0.0000 C   0  0  0  0  0  0  0  0  0  0  0  0\n",
      "   12.5049    0.1241    0.0000 C   0  0  0  0  0  0  0  0  0  0  0  0\n",
      "   13.0401    1.7714    0.0000 C   0  0  0  0  0  0  0  0  0  0  0  0\n",
      "    7.0256   -3.7276    0.0000 C   0  0  0  0  0  0  0  0  0  0  0  0\n",
      "   13.2480    0.7932    0.0000 C   0  0  0  0  0  0  0  0  0  0  0  0\n",
      "    3.1590    3.7276    0.0000 C   0  0  0  0  0  0  0  0  0  0  0  0\n",
      "    2.0000    2.4405    0.0000 C   0  0  0  0  0  0  0  0  0  0  0  0\n",
      "    2.2079    3.4186    0.0000 C   0  0  0  0  0  0  0  0  0  0  0  0\n",
      "  1  7  1  0\n",
      "  1 10  1  0\n",
      "  6  2  1  6\n",
      "  2 11  1  0\n",
      "  8  3  1  6\n",
      "  3 12  1  0\n",
      "  4  9  1  0\n",
      "  4 14  1  0\n",
      "  5 10  2  0\n",
      "  6  7  1  0\n",
      "  6  8  1  0\n",
      "  7  9  1  1\n",
      "  8 10  1  0\n",
      " 11 13  1  0\n",
      " 12 15  1  0\n",
      " 13 17  2  0\n",
      " 13 18  1  0\n",
      " 14 16  1  0\n",
      " 15 19  2  0\n",
      " 15 20  1  0\n",
      " 16 21  2  0\n",
      " 16 22  1  0\n",
      " 17 23  1  0\n",
      " 18 24  2  0\n",
      " 19 25  1  0\n",
      " 20 26  2  0\n",
      " 21 29  1  0\n",
      " 22 30  2  0\n",
      " 23 27  2  0\n",
      " 24 27  1  0\n",
      " 25 28  2  0\n",
      " 26 28  1  0\n",
      " 29 31  2  0\n",
      " 30 31  1  0\n",
      "M  END\n",
      "\n"
     ]
    }
   ],
   "source": [
    "print(Chem.MolToMolBlock(suppl[0]))"
   ]
  },
  {
   "cell_type": "code",
   "execution_count": 10,
   "metadata": {},
   "outputs": [
    {
     "data": {
      "text/plain": [
       "<rdkit.Chem.rdmolfiles.SDMolSupplier at 0x7fa2ab18ab58>"
      ]
     },
     "execution_count": 10,
     "metadata": {},
     "output_type": "execute_result"
    }
   ],
   "source": [
    "suppl"
   ]
  },
  {
   "cell_type": "code",
   "execution_count": 11,
   "metadata": {},
   "outputs": [
    {
     "ename": "SyntaxError",
     "evalue": "EOL while scanning string literal (<ipython-input-11-571785eafab2>, line 1)",
     "output_type": "error",
     "traceback": [
      "\u001b[0;36m  File \u001b[0;32m\"<ipython-input-11-571785eafab2>\"\u001b[0;36m, line \u001b[0;32m1\u001b[0m\n\u001b[0;31m    molecules = Chem.SDMolSupplier('data/PubChem_substance_text_covid-19_records.sdf\u001b[0m\n\u001b[0m                                                                                    ^\u001b[0m\n\u001b[0;31mSyntaxError\u001b[0m\u001b[0;31m:\u001b[0m EOL while scanning string literal\n"
     ]
    }
   ],
   "source": [
    "molecules = Chem.SDMolSupplier('data/PubChem_substance_text_covid-19_records.sdf\n",
    "                               ')"
   ]
  },
  {
   "cell_type": "code",
   "execution_count": 12,
   "metadata": {},
   "outputs": [],
   "source": [
    "molecules = Chem.SDMolSupplier('data/PubChem_substance_text_covid-19_records.sdf')"
   ]
  },
  {
   "cell_type": "code",
   "execution_count": 13,
   "metadata": {},
   "outputs": [
    {
     "ename": "ArgumentError",
     "evalue": "Python argument types in\n    rdkit.Chem.rdMolDescriptors.CalcExactMolWt(SDMolSupplier)\ndid not match C++ signature:\n    CalcExactMolWt(RDKit::ROMol mol, bool onlyHeavy=False)",
     "output_type": "error",
     "traceback": [
      "\u001b[0;31m---------------------------------------------------------------------------\u001b[0m",
      "\u001b[0;31mArgumentError\u001b[0m                             Traceback (most recent call last)",
      "\u001b[0;32m<ipython-input-13-0fecf504caf6>\u001b[0m in \u001b[0;36m<module>\u001b[0;34m\u001b[0m\n\u001b[0;32m----> 1\u001b[0;31m \u001b[0mmolecular_weight\u001b[0m \u001b[0;34m=\u001b[0m \u001b[0mDescriptors\u001b[0m\u001b[0;34m.\u001b[0m\u001b[0mExactMolWt\u001b[0m\u001b[0;34m(\u001b[0m\u001b[0mmolecules\u001b[0m\u001b[0;34m)\u001b[0m\u001b[0;34m\u001b[0m\u001b[0;34m\u001b[0m\u001b[0m\n\u001b[0m",
      "\u001b[0;32m/s/software/anaconda/python3/envs/rdkit/lib/python3.6/site-packages/rdkit/Chem/Descriptors.py\u001b[0m in \u001b[0;36m<lambda>\u001b[0;34m(*x, **y)\u001b[0m\n\u001b[1;32m     90\u001b[0m \u001b[0mHeavyAtomMolWt\u001b[0m\u001b[0;34m.\u001b[0m\u001b[0mversion\u001b[0m \u001b[0;34m=\u001b[0m \u001b[0;34m\"1.0.0\"\u001b[0m\u001b[0;34m\u001b[0m\u001b[0;34m\u001b[0m\u001b[0m\n\u001b[1;32m     91\u001b[0m \u001b[0;34m\u001b[0m\u001b[0m\n\u001b[0;32m---> 92\u001b[0;31m \u001b[0mExactMolWt\u001b[0m \u001b[0;34m=\u001b[0m \u001b[0;32mlambda\u001b[0m \u001b[0;34m*\u001b[0m\u001b[0mx\u001b[0m\u001b[0;34m,\u001b[0m \u001b[0;34m**\u001b[0m\u001b[0my\u001b[0m\u001b[0;34m:\u001b[0m \u001b[0m_rdMolDescriptors\u001b[0m\u001b[0;34m.\u001b[0m\u001b[0mCalcExactMolWt\u001b[0m\u001b[0;34m(\u001b[0m\u001b[0;34m*\u001b[0m\u001b[0mx\u001b[0m\u001b[0;34m,\u001b[0m \u001b[0;34m**\u001b[0m\u001b[0my\u001b[0m\u001b[0;34m)\u001b[0m\u001b[0;34m\u001b[0m\u001b[0;34m\u001b[0m\u001b[0m\n\u001b[0m\u001b[1;32m     93\u001b[0m \u001b[0mExactMolWt\u001b[0m\u001b[0;34m.\u001b[0m\u001b[0mversion\u001b[0m \u001b[0;34m=\u001b[0m \u001b[0m_rdMolDescriptors\u001b[0m\u001b[0;34m.\u001b[0m\u001b[0m_CalcExactMolWt_version\u001b[0m\u001b[0;34m\u001b[0m\u001b[0;34m\u001b[0m\u001b[0m\n\u001b[1;32m     94\u001b[0m ExactMolWt.__doc__ = \"\"\"The exact molecular weight of the molecule\n",
      "\u001b[0;31mArgumentError\u001b[0m: Python argument types in\n    rdkit.Chem.rdMolDescriptors.CalcExactMolWt(SDMolSupplier)\ndid not match C++ signature:\n    CalcExactMolWt(RDKit::ROMol mol, bool onlyHeavy=False)"
     ]
    }
   ],
   "source": [
    "molecular_weight = Descriptors.ExactMolWt(molecules)"
   ]
  },
  {
   "cell_type": "code",
   "execution_count": 14,
   "metadata": {},
   "outputs": [
    {
     "ename": "ArgumentError",
     "evalue": "Python argument types in\n    rdkit.Chem.rdMolDescriptors.CalcExactMolWt(SDMolSupplier)\ndid not match C++ signature:\n    CalcExactMolWt(RDKit::ROMol mol, bool onlyHeavy=False)",
     "output_type": "error",
     "traceback": [
      "\u001b[0;31m---------------------------------------------------------------------------\u001b[0m",
      "\u001b[0;31mArgumentError\u001b[0m                             Traceback (most recent call last)",
      "\u001b[0;32m<ipython-input-14-2c93c4512f6f>\u001b[0m in \u001b[0;36m<module>\u001b[0;34m\u001b[0m\n\u001b[1;32m      1\u001b[0m \u001b[0;32mfor\u001b[0m \u001b[0mmol\u001b[0m \u001b[0;32min\u001b[0m \u001b[0mmolecules\u001b[0m\u001b[0;34m:\u001b[0m\u001b[0;34m\u001b[0m\u001b[0;34m\u001b[0m\u001b[0m\n\u001b[0;32m----> 2\u001b[0;31m     \u001b[0mmolecular_weight\u001b[0m \u001b[0;34m=\u001b[0m \u001b[0mDescriptors\u001b[0m\u001b[0;34m.\u001b[0m\u001b[0mExactMolWt\u001b[0m\u001b[0;34m(\u001b[0m\u001b[0mmolecules\u001b[0m\u001b[0;34m)\u001b[0m\u001b[0;34m\u001b[0m\u001b[0;34m\u001b[0m\u001b[0m\n\u001b[0m\u001b[1;32m      3\u001b[0m     \u001b[0mprint\u001b[0m\u001b[0;34m(\u001b[0m\u001b[0mmolecular_weight\u001b[0m\u001b[0;34m)\u001b[0m\u001b[0;34m\u001b[0m\u001b[0;34m\u001b[0m\u001b[0m\n",
      "\u001b[0;32m/s/software/anaconda/python3/envs/rdkit/lib/python3.6/site-packages/rdkit/Chem/Descriptors.py\u001b[0m in \u001b[0;36m<lambda>\u001b[0;34m(*x, **y)\u001b[0m\n\u001b[1;32m     90\u001b[0m \u001b[0mHeavyAtomMolWt\u001b[0m\u001b[0;34m.\u001b[0m\u001b[0mversion\u001b[0m \u001b[0;34m=\u001b[0m \u001b[0;34m\"1.0.0\"\u001b[0m\u001b[0;34m\u001b[0m\u001b[0;34m\u001b[0m\u001b[0m\n\u001b[1;32m     91\u001b[0m \u001b[0;34m\u001b[0m\u001b[0m\n\u001b[0;32m---> 92\u001b[0;31m \u001b[0mExactMolWt\u001b[0m \u001b[0;34m=\u001b[0m \u001b[0;32mlambda\u001b[0m \u001b[0;34m*\u001b[0m\u001b[0mx\u001b[0m\u001b[0;34m,\u001b[0m \u001b[0;34m**\u001b[0m\u001b[0my\u001b[0m\u001b[0;34m:\u001b[0m \u001b[0m_rdMolDescriptors\u001b[0m\u001b[0;34m.\u001b[0m\u001b[0mCalcExactMolWt\u001b[0m\u001b[0;34m(\u001b[0m\u001b[0;34m*\u001b[0m\u001b[0mx\u001b[0m\u001b[0;34m,\u001b[0m \u001b[0;34m**\u001b[0m\u001b[0my\u001b[0m\u001b[0;34m)\u001b[0m\u001b[0;34m\u001b[0m\u001b[0;34m\u001b[0m\u001b[0m\n\u001b[0m\u001b[1;32m     93\u001b[0m \u001b[0mExactMolWt\u001b[0m\u001b[0;34m.\u001b[0m\u001b[0mversion\u001b[0m \u001b[0;34m=\u001b[0m \u001b[0m_rdMolDescriptors\u001b[0m\u001b[0;34m.\u001b[0m\u001b[0m_CalcExactMolWt_version\u001b[0m\u001b[0;34m\u001b[0m\u001b[0;34m\u001b[0m\u001b[0m\n\u001b[1;32m     94\u001b[0m ExactMolWt.__doc__ = \"\"\"The exact molecular weight of the molecule\n",
      "\u001b[0;31mArgumentError\u001b[0m: Python argument types in\n    rdkit.Chem.rdMolDescriptors.CalcExactMolWt(SDMolSupplier)\ndid not match C++ signature:\n    CalcExactMolWt(RDKit::ROMol mol, bool onlyHeavy=False)"
     ]
    }
   ],
   "source": []
  },
  {
   "cell_type": "code",
   "execution_count": 33,
   "metadata": {},
   "outputs": [
    {
     "name": "stdout",
     "output_type": "stream",
     "text": [
      "<rdkit.Chem.rdmolfiles.SDMolSupplier object at 0x7fa2ab147618>\n",
      "Total number of molecules read:  63\n",
      "Not Lipinski-compliant:  135650118\n",
      "Not Lipinski-compliant:  405067330\n",
      "Not Lipinski-compliant:  405067314\n",
      "Not Lipinski-compliant:  252827462\n",
      "Not Lipinski-compliant:  178103417\n",
      "Not Lipinski-compliant:  405067337\n",
      "Not Lipinski-compliant:  223366192\n",
      "Not Lipinski-compliant:  178103048\n",
      "Not Lipinski-compliant:  187051772\n",
      "Not Lipinski-compliant:  187051836\n",
      "Not Lipinski-compliant:  375973224\n",
      "Not Lipinski-compliant:  405067328\n",
      "Not Lipinski-compliant:  404859153\n",
      "Not Lipinski-compliant:  178103448\n",
      "Not Lipinski-compliant:  178103944\n",
      "Not Lipinski-compliant:  178103484\n",
      "Not Lipinski-compliant:  310264693\n",
      "Not Lipinski-compliant:  178100871\n",
      "Not Lipinski-compliant:  178101031\n",
      "Not Lipinski-compliant:  405067326\n",
      "Not Lipinski-compliant:  223366123\n",
      "Not Lipinski-compliant:  405067310\n",
      "Not Lipinski-compliant:  387271627\n",
      "Not Lipinski-compliant:  135651229\n",
      "Not Lipinski-compliant:  178102653\n",
      "Not Lipinski-compliant:  223366205\n",
      "Not Lipinski-compliant:  385612237\n",
      "Not Lipinski-compliant:  363894189\n",
      "Not Lipinski-compliant:  178102314\n",
      "Not Lipinski-compliant:  178103978\n",
      "Not Lipinski-compliant:  328083514\n",
      "Not Lipinski-compliant:  404859162\n",
      "Not Lipinski-compliant:  405067338\n",
      "{'lipinski_yes': 30, 'lipinski_no': 33}\n"
     ]
    }
   ],
   "source": [
    "\n"
   ]
  },
  {
   "cell_type": "code",
   "execution_count": 3,
   "metadata": {},
   "outputs": [
    {
     "name": "stdout",
     "output_type": "stream",
     "text": [
      "00100100101010100001101111000010000000100000000110000100100101001000100000101100000000000001110001000001000000000000000111000010000000000001111011001010000011000111000000000100100110000000110100110010011001100010000100010100011001100000000010000000001001000000000100100001100001000000001000100111000010010000100011001001110010110011000010010100101001000001110001000011000011000000000000000001111010000000000100011000001000000000000110010000010010001000001010000000000000000000000000100100000100001000101000000010110010011000001000000001001000101100000010000010101000011001000000100000000010000001111001100000000000000010010101000001000000000010000111001001111000000000000000000001100001001100000000110100100011000000010001010000000100000101000010011001010000010100111000011000001001000000010010010001000000000100100100010100001100100000000001110000000010111101000010000000001100001010000001100000000011000001000000011011001100100110000101000010001010001100100000000000110100000111001100000000010000001010001000011100000100001110010000000000001000100010100010001100110111100011000010000010000000100000100001001000000010100000001001001000100010000110010001000011111000000000100010000001000000000000000001100000000000100101000010000100010010000010001110000001001100000010000000100000011000010001100000110000000010001101000000100110001101000011000000000001100000111011000000100110000000100010100110011001000000010100011100100000000000000010000100000000100001001000100101000000010000010000000100000000110100000001000011100001000100100000001011110000010010010110000100000000100101010100000100100100100000100001000000000000000000100001000001001000100000010100000000000000100010000000000000010010010100000111000000001000101000001110010110000000001001101000000001000100010001000000101010100010110000101100010001001010011111111100100000000000010001000010000000111011100010000100010011011100001000001100001001000110011101000000000000000011100000000100110001000001100010101010100010010000011010001010000100000010001001010000101001000000000001110100100010000000\n",
      "[[1.         0.         0.23266219 ... 0.21014493 0.2748538  0.20385675]\n",
      " [0.         1.         0.         ... 0.         0.         0.        ]\n",
      " [0.23266219 0.         1.         ... 0.34859155 0.48253627 0.28484024]\n",
      " ...\n",
      " [0.21014493 0.         0.34859155 ... 1.         0.36883408 0.2584    ]\n",
      " [0.2748538  0.         0.48253627 ... 0.36883408 1.         0.3420322 ]\n",
      " [0.20385675 0.         0.28484024 ... 0.2584     0.3420322  1.        ]]\n"
     ]
    }
   ],
   "source": [
    "from rdkit import DataStructs\n",
    "from rdkit import Chem\n",
    "import numpy as np\n",
    "molecules = Chem.SDMolSupplier('./data/PubChem_substance_text_covid-19_records.sdf')\n",
    "list_of_fps = [Chem.RDKFingerprint(i) for i in molecules]\n",
    "matrix = np.zeros([len(list_of_fps),len(list_of_fps)])\n",
    "\n",
    "for i in range(len(list_of_fps)):\n",
    "    for j in range(len(list_of_fps)):\n",
    "        tani = DataStructs.FingerprintSimilarity(list_of_fps[i],list_of_fps[j])\n",
    "        matrix[i][j] = tani\n",
    "print(list_of_fps[0].ToBitString())\n",
    "print(matrix)"
   ]
  }
 ],
 "metadata": {
  "kernelspec": {
   "display_name": "Python 3",
   "language": "python",
   "name": "python3"
  },
  "language_info": {
   "codemirror_mode": {
    "name": "ipython",
    "version": 3
   },
   "file_extension": ".py",
   "mimetype": "text/x-python",
   "name": "python",
   "nbconvert_exporter": "python",
   "pygments_lexer": "ipython3",
   "version": "3.6.11"
  }
 },
 "nbformat": 4,
 "nbformat_minor": 4
}
